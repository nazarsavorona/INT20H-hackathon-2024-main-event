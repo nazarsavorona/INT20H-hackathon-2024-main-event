{
 "cells": [
  {
   "cell_type": "code",
   "outputs": [],
   "source": [
    "from PIL import Image\n",
    "import torch\n",
    "from torchvision import transforms\n",
    "from torch import nn\n",
    "from torchvision.models import resnet34, ResNet34_Weights\n",
    "import numpy as np\n",
    "import os\n",
    "import pandas as pd"
   ],
   "metadata": {
    "collapsed": false,
    "ExecuteTime": {
     "end_time": "2024-03-02T16:25:20.560345300Z",
     "start_time": "2024-03-02T16:25:17.398424700Z"
    }
   },
   "id": "f91f382b0822527c",
   "execution_count": 1
  },
  {
   "cell_type": "code",
   "outputs": [],
   "source": [
    "device = torch.device(\"cuda\" if torch.cuda.is_available() else \"cpu\")\n",
    "IMG_SIZE = (224, 224)\n",
    "mean = [0.485, 0.456, 0.406]\n",
    "std = [0.229, 0.224, 0.225]"
   ],
   "metadata": {
    "collapsed": false,
    "ExecuteTime": {
     "end_time": "2024-03-02T16:25:22.102695400Z",
     "start_time": "2024-03-02T16:25:20.561344100Z"
    }
   },
   "id": "b2f38bae0e967e1",
   "execution_count": 2
  },
  {
   "cell_type": "code",
   "outputs": [],
   "source": [
    "transform = transforms.Compose([\n",
    "    transforms.Resize(IMG_SIZE),\n",
    "    transforms.ToTensor(),\n",
    "    transforms.Normalize(mean=mean, std=std)\n",
    "])"
   ],
   "metadata": {
    "collapsed": false,
    "ExecuteTime": {
     "end_time": "2024-03-02T16:25:22.112219100Z",
     "start_time": "2024-03-02T16:25:22.103682500Z"
    }
   },
   "id": "38eca8c6d2852f5e",
   "execution_count": 3
  },
  {
   "cell_type": "code",
   "outputs": [
    {
     "data": {
      "text/plain": "ResNet(\n  (conv1): Conv2d(3, 64, kernel_size=(7, 7), stride=(2, 2), padding=(3, 3), bias=False)\n  (bn1): BatchNorm2d(64, eps=1e-05, momentum=0.1, affine=True, track_running_stats=True)\n  (relu): ReLU(inplace=True)\n  (maxpool): MaxPool2d(kernel_size=3, stride=2, padding=1, dilation=1, ceil_mode=False)\n  (layer1): Sequential(\n    (0): BasicBlock(\n      (conv1): Conv2d(64, 64, kernel_size=(3, 3), stride=(1, 1), padding=(1, 1), bias=False)\n      (bn1): BatchNorm2d(64, eps=1e-05, momentum=0.1, affine=True, track_running_stats=True)\n      (relu): ReLU(inplace=True)\n      (conv2): Conv2d(64, 64, kernel_size=(3, 3), stride=(1, 1), padding=(1, 1), bias=False)\n      (bn2): BatchNorm2d(64, eps=1e-05, momentum=0.1, affine=True, track_running_stats=True)\n    )\n    (1): BasicBlock(\n      (conv1): Conv2d(64, 64, kernel_size=(3, 3), stride=(1, 1), padding=(1, 1), bias=False)\n      (bn1): BatchNorm2d(64, eps=1e-05, momentum=0.1, affine=True, track_running_stats=True)\n      (relu): ReLU(inplace=True)\n      (conv2): Conv2d(64, 64, kernel_size=(3, 3), stride=(1, 1), padding=(1, 1), bias=False)\n      (bn2): BatchNorm2d(64, eps=1e-05, momentum=0.1, affine=True, track_running_stats=True)\n    )\n    (2): BasicBlock(\n      (conv1): Conv2d(64, 64, kernel_size=(3, 3), stride=(1, 1), padding=(1, 1), bias=False)\n      (bn1): BatchNorm2d(64, eps=1e-05, momentum=0.1, affine=True, track_running_stats=True)\n      (relu): ReLU(inplace=True)\n      (conv2): Conv2d(64, 64, kernel_size=(3, 3), stride=(1, 1), padding=(1, 1), bias=False)\n      (bn2): BatchNorm2d(64, eps=1e-05, momentum=0.1, affine=True, track_running_stats=True)\n    )\n  )\n  (layer2): Sequential(\n    (0): BasicBlock(\n      (conv1): Conv2d(64, 128, kernel_size=(3, 3), stride=(2, 2), padding=(1, 1), bias=False)\n      (bn1): BatchNorm2d(128, eps=1e-05, momentum=0.1, affine=True, track_running_stats=True)\n      (relu): ReLU(inplace=True)\n      (conv2): Conv2d(128, 128, kernel_size=(3, 3), stride=(1, 1), padding=(1, 1), bias=False)\n      (bn2): BatchNorm2d(128, eps=1e-05, momentum=0.1, affine=True, track_running_stats=True)\n      (downsample): Sequential(\n        (0): Conv2d(64, 128, kernel_size=(1, 1), stride=(2, 2), bias=False)\n        (1): BatchNorm2d(128, eps=1e-05, momentum=0.1, affine=True, track_running_stats=True)\n      )\n    )\n    (1): BasicBlock(\n      (conv1): Conv2d(128, 128, kernel_size=(3, 3), stride=(1, 1), padding=(1, 1), bias=False)\n      (bn1): BatchNorm2d(128, eps=1e-05, momentum=0.1, affine=True, track_running_stats=True)\n      (relu): ReLU(inplace=True)\n      (conv2): Conv2d(128, 128, kernel_size=(3, 3), stride=(1, 1), padding=(1, 1), bias=False)\n      (bn2): BatchNorm2d(128, eps=1e-05, momentum=0.1, affine=True, track_running_stats=True)\n    )\n    (2): BasicBlock(\n      (conv1): Conv2d(128, 128, kernel_size=(3, 3), stride=(1, 1), padding=(1, 1), bias=False)\n      (bn1): BatchNorm2d(128, eps=1e-05, momentum=0.1, affine=True, track_running_stats=True)\n      (relu): ReLU(inplace=True)\n      (conv2): Conv2d(128, 128, kernel_size=(3, 3), stride=(1, 1), padding=(1, 1), bias=False)\n      (bn2): BatchNorm2d(128, eps=1e-05, momentum=0.1, affine=True, track_running_stats=True)\n    )\n    (3): BasicBlock(\n      (conv1): Conv2d(128, 128, kernel_size=(3, 3), stride=(1, 1), padding=(1, 1), bias=False)\n      (bn1): BatchNorm2d(128, eps=1e-05, momentum=0.1, affine=True, track_running_stats=True)\n      (relu): ReLU(inplace=True)\n      (conv2): Conv2d(128, 128, kernel_size=(3, 3), stride=(1, 1), padding=(1, 1), bias=False)\n      (bn2): BatchNorm2d(128, eps=1e-05, momentum=0.1, affine=True, track_running_stats=True)\n    )\n  )\n  (layer3): Sequential(\n    (0): BasicBlock(\n      (conv1): Conv2d(128, 256, kernel_size=(3, 3), stride=(2, 2), padding=(1, 1), bias=False)\n      (bn1): BatchNorm2d(256, eps=1e-05, momentum=0.1, affine=True, track_running_stats=True)\n      (relu): ReLU(inplace=True)\n      (conv2): Conv2d(256, 256, kernel_size=(3, 3), stride=(1, 1), padding=(1, 1), bias=False)\n      (bn2): BatchNorm2d(256, eps=1e-05, momentum=0.1, affine=True, track_running_stats=True)\n      (downsample): Sequential(\n        (0): Conv2d(128, 256, kernel_size=(1, 1), stride=(2, 2), bias=False)\n        (1): BatchNorm2d(256, eps=1e-05, momentum=0.1, affine=True, track_running_stats=True)\n      )\n    )\n    (1): BasicBlock(\n      (conv1): Conv2d(256, 256, kernel_size=(3, 3), stride=(1, 1), padding=(1, 1), bias=False)\n      (bn1): BatchNorm2d(256, eps=1e-05, momentum=0.1, affine=True, track_running_stats=True)\n      (relu): ReLU(inplace=True)\n      (conv2): Conv2d(256, 256, kernel_size=(3, 3), stride=(1, 1), padding=(1, 1), bias=False)\n      (bn2): BatchNorm2d(256, eps=1e-05, momentum=0.1, affine=True, track_running_stats=True)\n    )\n    (2): BasicBlock(\n      (conv1): Conv2d(256, 256, kernel_size=(3, 3), stride=(1, 1), padding=(1, 1), bias=False)\n      (bn1): BatchNorm2d(256, eps=1e-05, momentum=0.1, affine=True, track_running_stats=True)\n      (relu): ReLU(inplace=True)\n      (conv2): Conv2d(256, 256, kernel_size=(3, 3), stride=(1, 1), padding=(1, 1), bias=False)\n      (bn2): BatchNorm2d(256, eps=1e-05, momentum=0.1, affine=True, track_running_stats=True)\n    )\n    (3): BasicBlock(\n      (conv1): Conv2d(256, 256, kernel_size=(3, 3), stride=(1, 1), padding=(1, 1), bias=False)\n      (bn1): BatchNorm2d(256, eps=1e-05, momentum=0.1, affine=True, track_running_stats=True)\n      (relu): ReLU(inplace=True)\n      (conv2): Conv2d(256, 256, kernel_size=(3, 3), stride=(1, 1), padding=(1, 1), bias=False)\n      (bn2): BatchNorm2d(256, eps=1e-05, momentum=0.1, affine=True, track_running_stats=True)\n    )\n    (4): BasicBlock(\n      (conv1): Conv2d(256, 256, kernel_size=(3, 3), stride=(1, 1), padding=(1, 1), bias=False)\n      (bn1): BatchNorm2d(256, eps=1e-05, momentum=0.1, affine=True, track_running_stats=True)\n      (relu): ReLU(inplace=True)\n      (conv2): Conv2d(256, 256, kernel_size=(3, 3), stride=(1, 1), padding=(1, 1), bias=False)\n      (bn2): BatchNorm2d(256, eps=1e-05, momentum=0.1, affine=True, track_running_stats=True)\n    )\n    (5): BasicBlock(\n      (conv1): Conv2d(256, 256, kernel_size=(3, 3), stride=(1, 1), padding=(1, 1), bias=False)\n      (bn1): BatchNorm2d(256, eps=1e-05, momentum=0.1, affine=True, track_running_stats=True)\n      (relu): ReLU(inplace=True)\n      (conv2): Conv2d(256, 256, kernel_size=(3, 3), stride=(1, 1), padding=(1, 1), bias=False)\n      (bn2): BatchNorm2d(256, eps=1e-05, momentum=0.1, affine=True, track_running_stats=True)\n    )\n  )\n  (layer4): Sequential(\n    (0): BasicBlock(\n      (conv1): Conv2d(256, 512, kernel_size=(3, 3), stride=(2, 2), padding=(1, 1), bias=False)\n      (bn1): BatchNorm2d(512, eps=1e-05, momentum=0.1, affine=True, track_running_stats=True)\n      (relu): ReLU(inplace=True)\n      (conv2): Conv2d(512, 512, kernel_size=(3, 3), stride=(1, 1), padding=(1, 1), bias=False)\n      (bn2): BatchNorm2d(512, eps=1e-05, momentum=0.1, affine=True, track_running_stats=True)\n      (downsample): Sequential(\n        (0): Conv2d(256, 512, kernel_size=(1, 1), stride=(2, 2), bias=False)\n        (1): BatchNorm2d(512, eps=1e-05, momentum=0.1, affine=True, track_running_stats=True)\n      )\n    )\n    (1): BasicBlock(\n      (conv1): Conv2d(512, 512, kernel_size=(3, 3), stride=(1, 1), padding=(1, 1), bias=False)\n      (bn1): BatchNorm2d(512, eps=1e-05, momentum=0.1, affine=True, track_running_stats=True)\n      (relu): ReLU(inplace=True)\n      (conv2): Conv2d(512, 512, kernel_size=(3, 3), stride=(1, 1), padding=(1, 1), bias=False)\n      (bn2): BatchNorm2d(512, eps=1e-05, momentum=0.1, affine=True, track_running_stats=True)\n    )\n    (2): BasicBlock(\n      (conv1): Conv2d(512, 512, kernel_size=(3, 3), stride=(1, 1), padding=(1, 1), bias=False)\n      (bn1): BatchNorm2d(512, eps=1e-05, momentum=0.1, affine=True, track_running_stats=True)\n      (relu): ReLU(inplace=True)\n      (conv2): Conv2d(512, 512, kernel_size=(3, 3), stride=(1, 1), padding=(1, 1), bias=False)\n      (bn2): BatchNorm2d(512, eps=1e-05, momentum=0.1, affine=True, track_running_stats=True)\n    )\n  )\n  (avgpool): AdaptiveAvgPool2d(output_size=(1, 1))\n  (fc): Identity()\n)"
     },
     "execution_count": 4,
     "metadata": {},
     "output_type": "execute_result"
    }
   ],
   "source": [
    "model = resnet34(weights=ResNet34_Weights.DEFAULT)\n",
    "model.fc = nn.Identity()\n",
    "model.to(device)\n",
    "model.eval()"
   ],
   "metadata": {
    "collapsed": false,
    "ExecuteTime": {
     "end_time": "2024-03-02T16:25:22.404515900Z",
     "start_time": "2024-03-02T16:25:22.109221300Z"
    }
   },
   "id": "86458b736f830e8c",
   "execution_count": 4
  },
  {
   "cell_type": "code",
   "outputs": [],
   "source": [
    "def extract_features(image_path):\n",
    "    img = Image.open(image_path).convert('RGB')\n",
    "    img = transform(img)\n",
    "\n",
    "    img = img.unsqueeze(0).to(device)\n",
    "\n",
    "    with torch.no_grad():\n",
    "        features = model(img)\n",
    "\n",
    "    return features.squeeze().cpu().numpy()"
   ],
   "metadata": {
    "collapsed": false,
    "ExecuteTime": {
     "end_time": "2024-03-02T16:25:22.404515900Z",
     "start_time": "2024-03-02T16:25:22.400272300Z"
    }
   },
   "id": "4dff3d17a52d5bea",
   "execution_count": 5
  },
  {
   "cell_type": "code",
   "outputs": [],
   "source": [
    "feature_list = []\n",
    "image_names = []\n",
    "for image_path in os.listdir(\"faces\"):\n",
    "    if image_path.endswith(\".jpg\"):\n",
    "        features = extract_features(os.path.join(\"faces\", image_path))\n",
    "        feature_list.append(features)\n",
    "        image_names.append(image_path)"
   ],
   "metadata": {
    "collapsed": false,
    "ExecuteTime": {
     "end_time": "2024-03-02T16:26:05.110545Z",
     "start_time": "2024-03-02T16:25:24.550484800Z"
    }
   },
   "id": "2c1fb2af699f0bb5",
   "execution_count": 6
  },
  {
   "cell_type": "code",
   "outputs": [],
   "source": [
    "features = np.array(feature_list)"
   ],
   "metadata": {
    "collapsed": false,
    "ExecuteTime": {
     "end_time": "2024-03-02T16:26:05.119064200Z",
     "start_time": "2024-03-02T16:26:05.112548900Z"
    }
   },
   "id": "ced240193faf8894",
   "execution_count": 7
  },
  {
   "cell_type": "code",
   "outputs": [
    {
     "data": {
      "text/plain": "array([[2.7266729e-01, 1.8130443e-01, 5.2261305e-01, ..., 4.4510755e-01,\n        1.0084591e-02, 2.2795089e-01],\n       [2.7974856e-01, 1.9155865e-03, 1.1510092e-01, ..., 5.6593293e-01,\n        2.3556963e-02, 0.0000000e+00],\n       [1.9152623e-01, 3.0920136e-01, 1.4449698e-01, ..., 8.7487167e-01,\n        3.2340158e-02, 7.6012433e-02],\n       ...,\n       [1.2337389e+00, 2.5335188e+00, 1.0338317e+00, ..., 1.3521023e+00,\n        4.3273956e-01, 5.8018929e-01],\n       [1.4665031e-01, 5.9854084e-01, 7.2720951e-01, ..., 1.0651809e+00,\n        2.3365585e-02, 9.0102799e-02],\n       [9.0118498e-02, 7.6999116e-01, 3.8016029e-02, ..., 7.0997262e-01,\n        3.0191916e-01, 2.2381283e-02]], dtype=float32)"
     },
     "execution_count": 8,
     "metadata": {},
     "output_type": "execute_result"
    }
   ],
   "source": [
    "features"
   ],
   "metadata": {
    "collapsed": false,
    "ExecuteTime": {
     "end_time": "2024-03-02T16:26:18.594378300Z",
     "start_time": "2024-03-02T16:26:18.583737200Z"
    }
   },
   "id": "d7d03bb4bd635d82",
   "execution_count": 8
  },
  {
   "cell_type": "code",
   "outputs": [],
   "source": [
    "df = pd.DataFrame(features)\n",
    "df.insert(0, 'Image Name', image_names)\n",
    "df.to_csv('features.csv', index=False)"
   ],
   "metadata": {
    "collapsed": false,
    "ExecuteTime": {
     "end_time": "2024-03-02T16:27:21.931621200Z",
     "start_time": "2024-03-02T16:27:21.199755700Z"
    }
   },
   "id": "85e8485d50d31463",
   "execution_count": 9
  },
  {
   "cell_type": "code",
   "outputs": [
    {
     "data": {
      "text/plain": "                        Image Name         0         1         2         3  \\\n0     10002702_1960-11-09_2012.jpg  0.272667  0.181304  0.522613  0.985274   \n1      1002001_1944-05-01_1995.jpg  0.279749  0.001916  0.115101  0.893894   \n2      1004604_1981-11-27_2012.jpg  0.191526  0.309201  0.144497  1.417195   \n3     10049200_1891-09-16_1958.jpg  0.382820  0.079980  0.591635  0.931270   \n4     10064003_1986-01-04_2009.jpg  0.865130  0.361720  0.539288  1.447548   \n...                            ...       ...       ...       ...       ...   \n2974   9975102_1964-09-12_2013.jpg  0.631586  0.713522  0.525309  1.352313   \n2975    999202_1978-09-15_2006.jpg  0.149437  0.326232  0.527751  0.626464   \n2976   9994102_1992-03-13_2013.jpg  1.233739  2.533519  1.033832  3.189962   \n2977   9996800_1941-01-28_1966.jpg  0.146650  0.598541  0.727209  1.537440   \n2978   9999400_1981-12-13_2011.jpg  0.090119  0.769991  0.038016  1.571489   \n\n             4         5         6         7         8  ...       502  \\\n0     0.107050  0.359303  0.275444  0.677732  0.263400  ...  0.000000   \n1     0.040134  0.333267  0.071751  0.759813  0.170035  ...  0.006483   \n2     0.191475  0.046141  0.252428  0.148858  0.103499  ...  0.007329   \n3     0.348299  0.317523  0.126595  0.221747  0.059046  ...  0.040913   \n4     0.425298  0.970224  0.440898  0.828271  0.076451  ...  0.101955   \n...        ...       ...       ...       ...       ...  ...       ...   \n2974  0.651255  0.496266  0.179776  0.967858  0.305912  ...  0.014055   \n2975  0.089703  0.717217  0.046903  0.415258  0.001581  ...  0.012237   \n2976  1.146127  3.177276  1.651978  1.291490  1.392432  ...  0.406986   \n2977  0.000000  0.574576  0.128012  0.287720  0.054909  ...  0.151382   \n2978  0.145070  0.759141  0.227384  0.088989  0.041545  ...  0.026155   \n\n           503       504       505       506       507       508       509  \\\n0     0.181292  0.383862  0.020063  0.129796  0.336707  0.028761  0.445108   \n1     0.048637  0.739707  0.014779  0.554291  0.208090  0.462767  0.565933   \n2     0.002504  0.347986  0.126279  0.739436  0.297104  0.387431  0.874872   \n3     0.001872  1.560098  0.123703  0.385894  0.007108  0.017871  1.083520   \n4     0.025929  0.740600  0.087209  0.401073  0.026632  0.077148  0.935509   \n...        ...       ...       ...       ...       ...       ...       ...   \n2974  0.230134  0.291623  0.176886  0.095216  0.651918  0.271787  0.542943   \n2975  0.069713  1.871960  0.029520  1.648195  0.103237  0.084084  0.679717   \n2976  0.022475  0.274133  0.453498  0.808227  0.931516  1.671831  1.352102   \n2977  0.103588  1.688827  0.037238  0.604387  0.063688  0.133424  1.065181   \n2978  0.128442  0.855267  0.114090  0.426112  0.413090  0.651187  0.709973   \n\n           510       511  \n0     0.010085  0.227951  \n1     0.023557  0.000000  \n2     0.032340  0.076012  \n3     0.023397  0.091238  \n4     0.135685  0.063321  \n...        ...       ...  \n2974  0.000000  0.304776  \n2975  0.106744  0.358840  \n2976  0.432740  0.580189  \n2977  0.023366  0.090103  \n2978  0.301919  0.022381  \n\n[2979 rows x 513 columns]",
      "text/html": "<div>\n<style scoped>\n    .dataframe tbody tr th:only-of-type {\n        vertical-align: middle;\n    }\n\n    .dataframe tbody tr th {\n        vertical-align: top;\n    }\n\n    .dataframe thead th {\n        text-align: right;\n    }\n</style>\n<table border=\"1\" class=\"dataframe\">\n  <thead>\n    <tr style=\"text-align: right;\">\n      <th></th>\n      <th>Image Name</th>\n      <th>0</th>\n      <th>1</th>\n      <th>2</th>\n      <th>3</th>\n      <th>4</th>\n      <th>5</th>\n      <th>6</th>\n      <th>7</th>\n      <th>8</th>\n      <th>...</th>\n      <th>502</th>\n      <th>503</th>\n      <th>504</th>\n      <th>505</th>\n      <th>506</th>\n      <th>507</th>\n      <th>508</th>\n      <th>509</th>\n      <th>510</th>\n      <th>511</th>\n    </tr>\n  </thead>\n  <tbody>\n    <tr>\n      <th>0</th>\n      <td>10002702_1960-11-09_2012.jpg</td>\n      <td>0.272667</td>\n      <td>0.181304</td>\n      <td>0.522613</td>\n      <td>0.985274</td>\n      <td>0.107050</td>\n      <td>0.359303</td>\n      <td>0.275444</td>\n      <td>0.677732</td>\n      <td>0.263400</td>\n      <td>...</td>\n      <td>0.000000</td>\n      <td>0.181292</td>\n      <td>0.383862</td>\n      <td>0.020063</td>\n      <td>0.129796</td>\n      <td>0.336707</td>\n      <td>0.028761</td>\n      <td>0.445108</td>\n      <td>0.010085</td>\n      <td>0.227951</td>\n    </tr>\n    <tr>\n      <th>1</th>\n      <td>1002001_1944-05-01_1995.jpg</td>\n      <td>0.279749</td>\n      <td>0.001916</td>\n      <td>0.115101</td>\n      <td>0.893894</td>\n      <td>0.040134</td>\n      <td>0.333267</td>\n      <td>0.071751</td>\n      <td>0.759813</td>\n      <td>0.170035</td>\n      <td>...</td>\n      <td>0.006483</td>\n      <td>0.048637</td>\n      <td>0.739707</td>\n      <td>0.014779</td>\n      <td>0.554291</td>\n      <td>0.208090</td>\n      <td>0.462767</td>\n      <td>0.565933</td>\n      <td>0.023557</td>\n      <td>0.000000</td>\n    </tr>\n    <tr>\n      <th>2</th>\n      <td>1004604_1981-11-27_2012.jpg</td>\n      <td>0.191526</td>\n      <td>0.309201</td>\n      <td>0.144497</td>\n      <td>1.417195</td>\n      <td>0.191475</td>\n      <td>0.046141</td>\n      <td>0.252428</td>\n      <td>0.148858</td>\n      <td>0.103499</td>\n      <td>...</td>\n      <td>0.007329</td>\n      <td>0.002504</td>\n      <td>0.347986</td>\n      <td>0.126279</td>\n      <td>0.739436</td>\n      <td>0.297104</td>\n      <td>0.387431</td>\n      <td>0.874872</td>\n      <td>0.032340</td>\n      <td>0.076012</td>\n    </tr>\n    <tr>\n      <th>3</th>\n      <td>10049200_1891-09-16_1958.jpg</td>\n      <td>0.382820</td>\n      <td>0.079980</td>\n      <td>0.591635</td>\n      <td>0.931270</td>\n      <td>0.348299</td>\n      <td>0.317523</td>\n      <td>0.126595</td>\n      <td>0.221747</td>\n      <td>0.059046</td>\n      <td>...</td>\n      <td>0.040913</td>\n      <td>0.001872</td>\n      <td>1.560098</td>\n      <td>0.123703</td>\n      <td>0.385894</td>\n      <td>0.007108</td>\n      <td>0.017871</td>\n      <td>1.083520</td>\n      <td>0.023397</td>\n      <td>0.091238</td>\n    </tr>\n    <tr>\n      <th>4</th>\n      <td>10064003_1986-01-04_2009.jpg</td>\n      <td>0.865130</td>\n      <td>0.361720</td>\n      <td>0.539288</td>\n      <td>1.447548</td>\n      <td>0.425298</td>\n      <td>0.970224</td>\n      <td>0.440898</td>\n      <td>0.828271</td>\n      <td>0.076451</td>\n      <td>...</td>\n      <td>0.101955</td>\n      <td>0.025929</td>\n      <td>0.740600</td>\n      <td>0.087209</td>\n      <td>0.401073</td>\n      <td>0.026632</td>\n      <td>0.077148</td>\n      <td>0.935509</td>\n      <td>0.135685</td>\n      <td>0.063321</td>\n    </tr>\n    <tr>\n      <th>...</th>\n      <td>...</td>\n      <td>...</td>\n      <td>...</td>\n      <td>...</td>\n      <td>...</td>\n      <td>...</td>\n      <td>...</td>\n      <td>...</td>\n      <td>...</td>\n      <td>...</td>\n      <td>...</td>\n      <td>...</td>\n      <td>...</td>\n      <td>...</td>\n      <td>...</td>\n      <td>...</td>\n      <td>...</td>\n      <td>...</td>\n      <td>...</td>\n      <td>...</td>\n      <td>...</td>\n    </tr>\n    <tr>\n      <th>2974</th>\n      <td>9975102_1964-09-12_2013.jpg</td>\n      <td>0.631586</td>\n      <td>0.713522</td>\n      <td>0.525309</td>\n      <td>1.352313</td>\n      <td>0.651255</td>\n      <td>0.496266</td>\n      <td>0.179776</td>\n      <td>0.967858</td>\n      <td>0.305912</td>\n      <td>...</td>\n      <td>0.014055</td>\n      <td>0.230134</td>\n      <td>0.291623</td>\n      <td>0.176886</td>\n      <td>0.095216</td>\n      <td>0.651918</td>\n      <td>0.271787</td>\n      <td>0.542943</td>\n      <td>0.000000</td>\n      <td>0.304776</td>\n    </tr>\n    <tr>\n      <th>2975</th>\n      <td>999202_1978-09-15_2006.jpg</td>\n      <td>0.149437</td>\n      <td>0.326232</td>\n      <td>0.527751</td>\n      <td>0.626464</td>\n      <td>0.089703</td>\n      <td>0.717217</td>\n      <td>0.046903</td>\n      <td>0.415258</td>\n      <td>0.001581</td>\n      <td>...</td>\n      <td>0.012237</td>\n      <td>0.069713</td>\n      <td>1.871960</td>\n      <td>0.029520</td>\n      <td>1.648195</td>\n      <td>0.103237</td>\n      <td>0.084084</td>\n      <td>0.679717</td>\n      <td>0.106744</td>\n      <td>0.358840</td>\n    </tr>\n    <tr>\n      <th>2976</th>\n      <td>9994102_1992-03-13_2013.jpg</td>\n      <td>1.233739</td>\n      <td>2.533519</td>\n      <td>1.033832</td>\n      <td>3.189962</td>\n      <td>1.146127</td>\n      <td>3.177276</td>\n      <td>1.651978</td>\n      <td>1.291490</td>\n      <td>1.392432</td>\n      <td>...</td>\n      <td>0.406986</td>\n      <td>0.022475</td>\n      <td>0.274133</td>\n      <td>0.453498</td>\n      <td>0.808227</td>\n      <td>0.931516</td>\n      <td>1.671831</td>\n      <td>1.352102</td>\n      <td>0.432740</td>\n      <td>0.580189</td>\n    </tr>\n    <tr>\n      <th>2977</th>\n      <td>9996800_1941-01-28_1966.jpg</td>\n      <td>0.146650</td>\n      <td>0.598541</td>\n      <td>0.727209</td>\n      <td>1.537440</td>\n      <td>0.000000</td>\n      <td>0.574576</td>\n      <td>0.128012</td>\n      <td>0.287720</td>\n      <td>0.054909</td>\n      <td>...</td>\n      <td>0.151382</td>\n      <td>0.103588</td>\n      <td>1.688827</td>\n      <td>0.037238</td>\n      <td>0.604387</td>\n      <td>0.063688</td>\n      <td>0.133424</td>\n      <td>1.065181</td>\n      <td>0.023366</td>\n      <td>0.090103</td>\n    </tr>\n    <tr>\n      <th>2978</th>\n      <td>9999400_1981-12-13_2011.jpg</td>\n      <td>0.090119</td>\n      <td>0.769991</td>\n      <td>0.038016</td>\n      <td>1.571489</td>\n      <td>0.145070</td>\n      <td>0.759141</td>\n      <td>0.227384</td>\n      <td>0.088989</td>\n      <td>0.041545</td>\n      <td>...</td>\n      <td>0.026155</td>\n      <td>0.128442</td>\n      <td>0.855267</td>\n      <td>0.114090</td>\n      <td>0.426112</td>\n      <td>0.413090</td>\n      <td>0.651187</td>\n      <td>0.709973</td>\n      <td>0.301919</td>\n      <td>0.022381</td>\n    </tr>\n  </tbody>\n</table>\n<p>2979 rows × 513 columns</p>\n</div>"
     },
     "execution_count": 10,
     "metadata": {},
     "output_type": "execute_result"
    }
   ],
   "source": [
    "df = pd.read_csv('features.csv')\n",
    "df"
   ],
   "metadata": {
    "collapsed": false,
    "ExecuteTime": {
     "end_time": "2024-03-02T16:27:23.510564300Z",
     "start_time": "2024-03-02T16:27:23.335102800Z"
    }
   },
   "id": "9a88d88bfb979d30",
   "execution_count": 10
  },
  {
   "cell_type": "code",
   "outputs": [],
   "source": [],
   "metadata": {
    "collapsed": false
   },
   "id": "ec64c809dcaf3507"
  }
 ],
 "metadata": {
  "kernelspec": {
   "display_name": "Python 3",
   "language": "python",
   "name": "python3"
  },
  "language_info": {
   "codemirror_mode": {
    "name": "ipython",
    "version": 2
   },
   "file_extension": ".py",
   "mimetype": "text/x-python",
   "name": "python",
   "nbconvert_exporter": "python",
   "pygments_lexer": "ipython2",
   "version": "2.7.6"
  }
 },
 "nbformat": 4,
 "nbformat_minor": 5
}
