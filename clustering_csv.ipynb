{
 "cells": [
  {
   "cell_type": "code",
   "execution_count": null,
   "id": "initial_id",
   "metadata": {
    "collapsed": true
   },
   "outputs": [],
   "source": [
    "import pandas as pd\n",
    "from common import (k_means_clustering, hierarchical_clustering, visualize_2d, visualize_3d)\n",
    "import torch\n",
    "from sklearn.metrics import silhouette_score\n",
    "import matplotlib.pyplot as plt\n",
    "import cv2\n",
    "import numpy as np\n",
    "import os\n",
    "import concurrent.futures"
   ]
  },
  {
   "cell_type": "code",
   "outputs": [],
   "source": [
    "os.environ[\"LOKY_MAX_CPU_COUNT\"] = \"8\"  # to avoid warning from sklearn  "
   ],
   "metadata": {
    "collapsed": false
   },
   "id": "1e021309fe55b147",
   "execution_count": null
  },
  {
   "cell_type": "markdown",
   "source": [
    "## Read data"
   ],
   "metadata": {
    "collapsed": false
   },
   "id": "77a26fef6793124"
  },
  {
   "cell_type": "code",
   "outputs": [],
   "source": [
    "file_path = 'features.csv'\n",
    "df = pd.read_csv(file_path)"
   ],
   "metadata": {
    "collapsed": false
   },
   "id": "c65e35cc522c9421",
   "execution_count": null
  },
  {
   "cell_type": "code",
   "outputs": [],
   "source": [
    "# add features as column\n",
    "df['tensor'] = [torch.tensor(x, dtype=torch.float32) for x in df.drop(columns=['Image Name']).values]"
   ],
   "metadata": {
    "collapsed": false
   },
   "id": "c9a398e76c0e74eb",
   "execution_count": null
  },
  {
   "cell_type": "code",
   "outputs": [],
   "source": [
    "df = df[['Image Name', 'tensor']]"
   ],
   "metadata": {
    "collapsed": false
   },
   "id": "eb0c552ee707462d",
   "execution_count": null
  },
  {
   "cell_type": "code",
   "outputs": [],
   "source": [
    "df.head()"
   ],
   "metadata": {
    "collapsed": false
   },
   "id": "7501454d2136af77",
   "execution_count": null
  },
  {
   "cell_type": "markdown",
   "source": [
    "## Clustering"
   ],
   "metadata": {
    "collapsed": false
   },
   "id": "32a19d1f8368f496"
  },
  {
   "cell_type": "code",
   "outputs": [],
   "source": [
    "tensor_list = df['tensor'].tolist()\n",
    "features = torch.stack(tensor_list)"
   ],
   "metadata": {
    "collapsed": false
   },
   "id": "b09035585f8eb76b",
   "execution_count": null
  },
  {
   "cell_type": "code",
   "outputs": [],
   "source": [
    "# normalize features\n",
    "features = (features - features.mean(dim=0)) / features.std(dim=0)"
   ],
   "metadata": {
    "collapsed": false
   },
   "id": "e5c52a646af305a4",
   "execution_count": null
  },
  {
   "cell_type": "code",
   "outputs": [],
   "source": [
    "N_CLUSTERS = 7\n",
    "CLUSTERING_METHOD = 'kmeans'\n",
    "labels = None\n",
    "if CLUSTERING_METHOD == 'kmeans':\n",
    "    labels = k_means_clustering(features, N_CLUSTERS)\n",
    "elif CLUSTERING_METHOD == 'hierarchical':\n",
    "    labels = hierarchical_clustering(features, N_CLUSTERS)\n",
    "else:\n",
    "    raise ValueError(f'Invalid clustering method: {CLUSTERING_METHOD}')"
   ],
   "metadata": {
    "collapsed": false
   },
   "id": "e29629b3ee231bc0",
   "execution_count": null
  },
  {
   "cell_type": "code",
   "outputs": [],
   "source": [
    "# find centroids\n",
    "centroids = []\n",
    "for i in range(N_CLUSTERS):\n",
    "    cluster = features[labels == i]\n",
    "    centroid = cluster.mean(dim=0)\n",
    "    centroids.append(centroid)"
   ],
   "metadata": {
    "collapsed": false
   },
   "id": "52080a20bb36b86d",
   "execution_count": null
  },
  {
   "cell_type": "code",
   "outputs": [],
   "source": [
    "def compute_silhouette_score(n_clusters):\n",
    "    k_means_labels = k_means_clustering(features, n_clusters)\n",
    "    k_means_silhouette_score = silhouette_score(features, k_means_labels)\n",
    "\n",
    "    hierarchical_labels = hierarchical_clustering(features, n_clusters)\n",
    "    hierarchical_silhouette_score = silhouette_score(features, hierarchical_labels)\n",
    "\n",
    "    return max(k_means_silhouette_score, hierarchical_silhouette_score)"
   ],
   "metadata": {
    "collapsed": false
   },
   "id": "3873e71b4951c285",
   "execution_count": null
  },
  {
   "cell_type": "code",
   "outputs": [],
   "source": [
    "silhouette_scores = []\n",
    "with concurrent.futures.ThreadPoolExecutor() as executor:\n",
    "    for score in executor.map(compute_silhouette_score, range(2, 10)):\n",
    "        silhouette_scores.append(score)\n",
    "\n",
    "plt.plot(range(2, 10), silhouette_scores)\n",
    "plt.xlabel('Number of clusters')\n",
    "plt.ylabel('Silhouette score')\n",
    "plt.title('Silhouette score vs number of clusters')\n",
    "plt.show()"
   ],
   "metadata": {
    "collapsed": false
   },
   "id": "b4af50ec6791fec4",
   "execution_count": null
  },
  {
   "cell_type": "markdown",
   "source": [
    "## Visualization"
   ],
   "metadata": {
    "collapsed": false
   },
   "id": "896cb2a62023e07c"
  },
  {
   "cell_type": "code",
   "outputs": [],
   "source": [
    "visualize_2d(features, centroids, labels)"
   ],
   "metadata": {
    "collapsed": false
   },
   "id": "ae4c7653bd274050",
   "execution_count": null
  },
  {
   "cell_type": "code",
   "outputs": [],
   "source": [
    "visualize_3d(features, centroids, labels)"
   ],
   "metadata": {
    "collapsed": false
   },
   "id": "919bf29f4d71ef5f",
   "execution_count": null
  },
  {
   "cell_type": "markdown",
   "source": [
    "## Get samples from each cluster"
   ],
   "metadata": {
    "collapsed": false
   },
   "id": "5d6144d4efb42000"
  },
  {
   "cell_type": "code",
   "outputs": [],
   "source": [
    "images_folder = './data/images/'"
   ],
   "metadata": {
    "collapsed": false
   },
   "id": "bf78e29ca93e4542",
   "execution_count": null
  },
  {
   "cell_type": "code",
   "outputs": [],
   "source": [
    "def plot_images(images, labels, images_folder):\n",
    "    n = len(images)\n",
    "    nrows = int(np.ceil(n / 5))\n",
    "    fig, axs = plt.subplots(nrows, 5, figsize=(15, 3 * nrows))\n",
    "    axs = axs.ravel()  # flatten the array to easily iterate over it\n",
    "    for i, (img_name, label) in enumerate(zip(images, labels)):\n",
    "        img = cv2.imread(os.path.join(images_folder, img_name))\n",
    "        img = cv2.cvtColor(img, cv2.COLOR_BGR2RGB)\n",
    "        axs[i].imshow(img)\n",
    "        axs[i].set_title(f'Cluster {label}')\n",
    "        axs[i].axis('off')\n",
    "    # remove the axes of the extra subplots\n",
    "    if n % 5 != 0:\n",
    "        for j in range(n, nrows * 5):\n",
    "            fig.delaxes(axs[j])\n",
    "    plt.tight_layout()\n",
    "    plt.show()"
   ],
   "metadata": {
    "collapsed": false
   },
   "id": "e1d08c9037bb9323",
   "execution_count": null
  },
  {
   "cell_type": "code",
   "outputs": [],
   "source": [
    "# add labels to df\n",
    "df['labels'] = labels"
   ],
   "metadata": {
    "collapsed": false
   },
   "id": "d77496a2be7b6ae7",
   "execution_count": null
  },
  {
   "cell_type": "code",
   "outputs": [],
   "source": [
    "df.head()"
   ],
   "metadata": {
    "collapsed": false
   },
   "id": "d47691e5520157b9",
   "execution_count": null
  },
  {
   "cell_type": "code",
   "outputs": [],
   "source": [
    "# get samples from each cluster\n",
    "sample_count = 30\n",
    "samples = []\n",
    "for i in range(N_CLUSTERS):\n",
    "    from_cluster = df[df['labels'] == i].copy()  # create a copy to avoid warnings\n",
    "    from_cluster = from_cluster[\n",
    "        from_cluster['Image Name'].apply(lambda x: os.path.exists(os.path.join(images_folder, x)))]\n",
    "    from_cluster.loc[:, 'distance'] = from_cluster['tensor'].apply(lambda x: torch.dist(x, centroids[i]))\n",
    "    from_cluster = from_cluster.sort_values(by='distance')\n",
    "    samples.append(from_cluster.head(sample_count))\n",
    "\n",
    "samples_df = pd.concat(samples)"
   ],
   "metadata": {
    "collapsed": false
   },
   "id": "74da63f18e53319a",
   "execution_count": null
  },
  {
   "cell_type": "code",
   "outputs": [],
   "source": [
    "samples_df"
   ],
   "metadata": {
    "collapsed": false
   },
   "id": "78cc2aafe5e068f2",
   "execution_count": null
  },
  {
   "cell_type": "code",
   "outputs": [],
   "source": [
    "# plot samples for each cluster\n",
    "for i in range(N_CLUSTERS):\n",
    "    cluster_samples = samples_df[samples_df['labels'] == i]\n",
    "    plot_images(cluster_samples['Image Name'].values, cluster_samples['labels'].values, images_folder)"
   ],
   "metadata": {
    "collapsed": false
   },
   "id": "ff019a7ad46e77e8",
   "execution_count": null
  }
 ],
 "metadata": {
  "kernelspec": {
   "display_name": "Python 3",
   "language": "python",
   "name": "python3"
  },
  "language_info": {
   "codemirror_mode": {
    "name": "ipython",
    "version": 2
   },
   "file_extension": ".py",
   "mimetype": "text/x-python",
   "name": "python",
   "nbconvert_exporter": "python",
   "pygments_lexer": "ipython2",
   "version": "2.7.6"
  }
 },
 "nbformat": 4,
 "nbformat_minor": 5
}
