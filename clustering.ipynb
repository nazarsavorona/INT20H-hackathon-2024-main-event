{
 "cells": [
  {
   "cell_type": "code",
   "execution_count": null,
   "id": "initial_id",
   "metadata": {
    "collapsed": true
   },
   "outputs": [],
   "source": [
    "import torch\n",
    "from sklearn.cluster import KMeans\n"
   ]
  },
  {
   "cell_type": "code",
   "outputs": [],
   "source": [
    "def tensor_generator(shape, distribution='normal'):\n",
    "    while True:\n",
    "        if distribution == 'normal':\n",
    "            yield torch.randn(shape)\n",
    "        elif distribution == 'uniform':\n",
    "            yield torch.rand(shape)\n",
    "        else:\n",
    "            raise ValueError(f'Unknown distribution: {distribution}')"
   ],
   "metadata": {
    "collapsed": false
   },
   "id": "97aed18ea8bff911",
   "execution_count": null
  },
  {
   "cell_type": "code",
   "outputs": [],
   "source": [
    "def noise_generator(centroid, std=0.1):\n",
    "    while True:\n",
    "        yield centroid + torch.randn_like(centroid) * std"
   ],
   "metadata": {
    "collapsed": false
   },
   "id": "da7be50a27501981",
   "execution_count": null
  },
  {
   "cell_type": "code",
   "outputs": [],
   "source": [
    "N_CENTROIDS = 10\n",
    "N = 9000\n",
    "STD = 0.5\n",
    "SHAPE = (512)\n",
    "DIST = 'uniform'"
   ],
   "metadata": {
    "collapsed": false
   },
   "id": "6876b4e93b06a80d",
   "execution_count": null
  },
  {
   "cell_type": "code",
   "outputs": [],
   "source": [
    "centroid_generator = tensor_generator(SHAPE, DIST)\n",
    "centroids = [next(centroid_generator) for _ in range(N_CENTROIDS)]"
   ],
   "metadata": {
    "collapsed": false
   },
   "id": "8daeba82618f3733",
   "execution_count": null
  },
  {
   "cell_type": "code",
   "outputs": [],
   "source": [
    "noise_generators = [noise_generator(centroid, STD) for centroid in centroids]\n",
    "\n",
    "# generate N noisy tensors for each centroid\n",
    "noisy_tensors = torch.stack([next(noise_generators[i % N_CENTROIDS]) for i in range(N)])"
   ],
   "metadata": {
    "collapsed": false
   },
   "id": "c7990a68551e2e28",
   "execution_count": null
  },
  {
   "cell_type": "code",
   "outputs": [],
   "source": [
    "def k_means_clustering(data, n_clusters):\n",
    "    # Convert PyTorch tensor to numpy array\n",
    "    data_np = data.cpu().numpy()\n",
    "\n",
    "    # Perform K-means clustering\n",
    "    kmeans = KMeans(n_clusters=n_clusters, random_state=0).fit(data_np)\n",
    "\n",
    "    # Convert labels back to PyTorch tensor\n",
    "    labels = torch.from_numpy(kmeans.labels_)\n",
    "\n",
    "    return labels"
   ],
   "metadata": {
    "collapsed": false
   },
   "id": "3a440c5bae5bb3f4",
   "execution_count": null
  },
  {
   "cell_type": "code",
   "outputs": [],
   "source": [
    "n_clusters = 5\n",
    "labels = k_means_clustering(noisy_tensors, n_clusters)"
   ],
   "metadata": {
    "collapsed": false
   },
   "id": "e29629b3ee231bc0",
   "execution_count": null
  },
  {
   "cell_type": "code",
   "outputs": [],
   "source": [
    "# plot the data in 2d\n",
    "import matplotlib.pyplot as plt\n",
    "from sklearn.decomposition import PCA\n",
    "\n",
    "pca = PCA(n_components=2)\n",
    "noisy_tensors_2d = pca.fit_transform(noisy_tensors)\n",
    "\n",
    "plt.scatter(noisy_tensors_2d[:, 0], noisy_tensors_2d[:, 1], c=labels, cmap='viridis')\n",
    "\n",
    "# plot the centroids\n",
    "centroids_2d = pca.transform(torch.stack(centroids))\n",
    "plt.scatter(centroids_2d[:, 0], centroids_2d[:, 1], c='red', s=100, alpha=0.5)\n",
    "\n",
    "\n",
    "plt.show()"
   ],
   "metadata": {
    "collapsed": false
   },
   "id": "ae4c7653bd274050",
   "execution_count": null
  },
  {
   "cell_type": "code",
   "outputs": [],
   "source": [
    "# plot in 3d\n",
    "from mpl_toolkits.mplot3d import Axes3D\n",
    "\n",
    "pca = PCA(n_components=3)\n",
    "noisy_tensors_3d = pca.fit_transform(noisy_tensors)\n",
    "\n",
    "fig = plt.figure()\n",
    "ax = fig.add_subplot(111, projection='3d')\n",
    "ax.scatter(noisy_tensors_3d[:, 0], noisy_tensors_3d[:, 1], noisy_tensors_3d[:, 2], c=labels, cmap='viridis')\n",
    "\n",
    "# plot the centroids\n",
    "centroids_3d = pca.transform(torch.stack(centroids))\n",
    "ax.scatter(centroids_3d[:, 0], centroids_3d[:, 1], centroids_3d[:, 2], c='red', s=100, alpha=0.5)\n",
    "\n",
    "plt.show()"
   ],
   "metadata": {
    "collapsed": false
   },
   "id": "919bf29f4d71ef5f",
   "execution_count": null
  }
 ],
 "metadata": {
  "kernelspec": {
   "display_name": "Python 3",
   "language": "python",
   "name": "python3"
  },
  "language_info": {
   "codemirror_mode": {
    "name": "ipython",
    "version": 2
   },
   "file_extension": ".py",
   "mimetype": "text/x-python",
   "name": "python",
   "nbconvert_exporter": "python",
   "pygments_lexer": "ipython2",
   "version": "2.7.6"
  }
 },
 "nbformat": 4,
 "nbformat_minor": 5
}
