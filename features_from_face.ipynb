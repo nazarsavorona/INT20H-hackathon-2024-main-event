{
 "cells": [
  {
   "cell_type": "code",
   "execution_count": 1,
   "id": "initial_id",
   "metadata": {
    "collapsed": true,
    "ExecuteTime": {
     "end_time": "2024-03-03T02:47:28.846120Z",
     "start_time": "2024-03-03T02:47:27.807155Z"
    }
   },
   "outputs": [],
   "source": [
    "import numpy as np\n",
    "import matplotlib.pyplot as plt\n",
    "import pandas as pd\n",
    "import os\n",
    "import cv2\n",
    "import concurrent\n",
    "from tqdm import tqdm"
   ]
  },
  {
   "cell_type": "markdown",
   "source": [
    "# Defining the paths"
   ],
   "metadata": {
    "collapsed": false
   },
   "id": "7f87d4f06f0ff62f"
  },
  {
   "cell_type": "code",
   "outputs": [],
   "source": [
    "IMAGES_FOLDER = 'data/images/'\n",
    "CSV_FOLDER = 'faces/csv/'\n",
    "\n",
    "margin = 0.1\n",
    "SUFFIX = f'margin_{int(margin*100)}%'"
   ],
   "metadata": {
    "collapsed": false,
    "ExecuteTime": {
     "end_time": "2024-03-03T02:47:28.851126Z",
     "start_time": "2024-03-03T02:47:28.848129Z"
    }
   },
   "id": "e06cbae153abfb09",
   "execution_count": 2
  },
  {
   "cell_type": "markdown",
   "source": [
    "# Reading the images"
   ],
   "metadata": {
    "collapsed": false
   },
   "id": "c1f8210f97d9683c"
  },
  {
   "cell_type": "code",
   "outputs": [],
   "source": [
    "def get_image_paths():\n",
    "    return [IMAGES_FOLDER + f for f in os.listdir(IMAGES_FOLDER) if f.endswith('.jpg')]\n",
    "\n",
    "image_paths = get_image_paths()\n",
    "image_paths = np.array(image_paths)"
   ],
   "metadata": {
    "collapsed": false,
    "ExecuteTime": {
     "end_time": "2024-03-03T02:47:28.896764Z",
     "start_time": "2024-03-03T02:47:28.851126Z"
    }
   },
   "id": "ec664410b909d6a0",
   "execution_count": 3
  },
  {
   "cell_type": "code",
   "outputs": [
    {
     "name": "stderr",
     "output_type": "stream",
     "text": [
      "100%|██████████| 54258/54258 [00:19<00:00, 2840.27it/s]\n"
     ]
    }
   ],
   "source": [
    "def read_image(image_path):\n",
    "    img = cv2.imread(image_path)\n",
    "    img = cv2.cvtColor(img, cv2.COLOR_BGR2RGB)\n",
    "    assert img is not None\n",
    "\n",
    "    if img.shape[:2] == (1, 1):\n",
    "        return {\n",
    "            'folder': None,\n",
    "            'file': None,\n",
    "            'image': None\n",
    "        }\n",
    "\n",
    "    split = image_path.split('/')\n",
    "    folder = split[-2]\n",
    "    file = split[-1]\n",
    "\n",
    "    return {\n",
    "        'folder': folder,\n",
    "        'file': file,\n",
    "        'image': img\n",
    "    }\n",
    "\n",
    "\n",
    "images = []\n",
    "with concurrent.futures.ThreadPoolExecutor() as executor:\n",
    "    futures = [executor.submit(read_image, image_path) for image_path in image_paths]\n",
    "    for future in tqdm(concurrent.futures.as_completed(futures), total=len(image_paths)):\n",
    "        if future.result()['image'] is not None:\n",
    "            images.append(future.result())\n",
    "\n",
    "images = pd.DataFrame().from_dict(images)"
   ],
   "metadata": {
    "collapsed": false,
    "ExecuteTime": {
     "end_time": "2024-03-03T02:47:48.823078Z",
     "start_time": "2024-03-03T02:47:28.897769Z"
    }
   },
   "id": "cb25fe7e9b86e49e",
   "execution_count": 4
  },
  {
   "cell_type": "code",
   "outputs": [
    {
     "data": {
      "text/plain": "                       filename               faces    left_eye   right_eye  \\\n0   1040483_1928-01-28_1953.jpg    [33, 25, 74, 90]    [87, 59]    [53, 58]   \n1  10233725_1962-02-20_1985.jpg  [92, 71, 154, 203]  [209, 157]  [136, 143]   \n2    113666_1944-08-15_2011.jpg  [74, 54, 151, 213]  [186, 141]  [116, 143]   \n3  11286255_1931-04-28_1968.jpg  [68, 45, 139, 189]  [172, 124]  [107, 114]   \n4  10164280_1969-04-03_2007.jpg  [51, 38, 135, 177]  [147, 103]   [82, 105]   \n\n         nose  lips_right   lips_left  \n0    [68, 75]    [52, 90]    [80, 90]  \n1  [165, 190]  [126, 216]  [188, 228]  \n2  [154, 183]  [125, 214]  [183, 212]  \n3  [134, 158]  [102, 182]  [156, 190]  \n4  [113, 142]   [91, 169]  [146, 167]  ",
      "text/html": "<div>\n<style scoped>\n    .dataframe tbody tr th:only-of-type {\n        vertical-align: middle;\n    }\n\n    .dataframe tbody tr th {\n        vertical-align: top;\n    }\n\n    .dataframe thead th {\n        text-align: right;\n    }\n</style>\n<table border=\"1\" class=\"dataframe\">\n  <thead>\n    <tr style=\"text-align: right;\">\n      <th></th>\n      <th>filename</th>\n      <th>faces</th>\n      <th>left_eye</th>\n      <th>right_eye</th>\n      <th>nose</th>\n      <th>lips_right</th>\n      <th>lips_left</th>\n    </tr>\n  </thead>\n  <tbody>\n    <tr>\n      <th>0</th>\n      <td>1040483_1928-01-28_1953.jpg</td>\n      <td>[33, 25, 74, 90]</td>\n      <td>[87, 59]</td>\n      <td>[53, 58]</td>\n      <td>[68, 75]</td>\n      <td>[52, 90]</td>\n      <td>[80, 90]</td>\n    </tr>\n    <tr>\n      <th>1</th>\n      <td>10233725_1962-02-20_1985.jpg</td>\n      <td>[92, 71, 154, 203]</td>\n      <td>[209, 157]</td>\n      <td>[136, 143]</td>\n      <td>[165, 190]</td>\n      <td>[126, 216]</td>\n      <td>[188, 228]</td>\n    </tr>\n    <tr>\n      <th>2</th>\n      <td>113666_1944-08-15_2011.jpg</td>\n      <td>[74, 54, 151, 213]</td>\n      <td>[186, 141]</td>\n      <td>[116, 143]</td>\n      <td>[154, 183]</td>\n      <td>[125, 214]</td>\n      <td>[183, 212]</td>\n    </tr>\n    <tr>\n      <th>3</th>\n      <td>11286255_1931-04-28_1968.jpg</td>\n      <td>[68, 45, 139, 189]</td>\n      <td>[172, 124]</td>\n      <td>[107, 114]</td>\n      <td>[134, 158]</td>\n      <td>[102, 182]</td>\n      <td>[156, 190]</td>\n    </tr>\n    <tr>\n      <th>4</th>\n      <td>10164280_1969-04-03_2007.jpg</td>\n      <td>[51, 38, 135, 177]</td>\n      <td>[147, 103]</td>\n      <td>[82, 105]</td>\n      <td>[113, 142]</td>\n      <td>[91, 169]</td>\n      <td>[146, 167]</td>\n    </tr>\n  </tbody>\n</table>\n</div>"
     },
     "execution_count": 5,
     "metadata": {},
     "output_type": "execute_result"
    }
   ],
   "source": [
    "table_data = pd.read_csv(CSV_FOLDER + 'image_faces_' + SUFFIX + '.csv')\n",
    "table_data.head()"
   ],
   "metadata": {
    "collapsed": false,
    "ExecuteTime": {
     "end_time": "2024-03-03T02:47:48.865261Z",
     "start_time": "2024-03-03T02:47:48.825085Z"
    }
   },
   "id": "79d8cfe0f1543bfc",
   "execution_count": 5
  },
  {
   "cell_type": "markdown",
   "source": [
    "# Getting the face features"
   ],
   "metadata": {
    "collapsed": false
   },
   "id": "969f08f9881ef02c"
  },
  {
   "cell_type": "code",
   "outputs": [
    {
     "name": "stderr",
     "output_type": "stream",
     "text": [
      "100%|██████████| 8642/8642 [00:00<00:00, 50403.36it/s]\n"
     ]
    }
   ],
   "source": [
    "def get_np_array(data):\n",
    "    return np.array([int(f) for f in data[1:-1].split(',')])\n",
    "\n",
    "def get_face_features(row):\n",
    "    face = get_np_array(row['faces'])\n",
    "    face_width = face[2]\n",
    "    face_height = face[3]\n",
    "    \n",
    "    left_eye = get_np_array(row['left_eye'])   \n",
    "    right_eye = get_np_array(row['right_eye']) \n",
    "    lips_left = get_np_array(row['lips_left']) \n",
    "    lips_right = get_np_array(row['lips_right'])   \n",
    "    nose = get_np_array(row['nose'])\n",
    "    \n",
    "    eyes_width = np.sqrt(np.sum((left_eye - right_eye)**2))\n",
    "    eyes_width = eyes_width / face_width\n",
    "    \n",
    "    lips_width = np.sqrt(np.sum((lips_left - lips_right)**2))\n",
    "    lips_width = lips_width / face_width\n",
    "    \n",
    "    eyes_middle = (left_eye + right_eye) / 2\n",
    "    lips_middle = (lips_left + lips_right) / 2  \n",
    "    eyes_lips_distance = np.sqrt(np.sum((eyes_middle - lips_middle)**2))\n",
    "    eyes_lips_distance = eyes_lips_distance / face_height\n",
    "\n",
    "    A = left_eye - nose\n",
    "    B = right_eye - nose\n",
    "    cos = np.dot(A, B)\n",
    "    denominator = np.sqrt(np.sum(A**2)) * np.sqrt(np.sum(B**2))\n",
    "    angle_eyes_nose = np.arccos(cos / denominator)\n",
    "\n",
    "    C = lips_left - nose\n",
    "    D = lips_right - nose\n",
    "    cos = np.dot(C, D)\n",
    "    denominator = np.sqrt(np.sum(C**2)) * np.sqrt(np.sum(D**2))\n",
    "    angle_lips_nose = np.arccos(cos / denominator)\n",
    "    \n",
    "    return {\n",
    "        'filename': row['filename'],\n",
    "        'eyes_width': eyes_width,\n",
    "        'lips_width': lips_width,\n",
    "        'eyes_lips_distance': eyes_lips_distance,\n",
    "        'angle_eyes_nose': angle_eyes_nose,\n",
    "        'angle_lips_nose': angle_lips_nose\n",
    "    }\n",
    "    \n",
    "face_features = []\n",
    "\n",
    "with concurrent.futures.ThreadPoolExecutor() as executor:\n",
    "    futures = [executor.submit(get_face_features, row) for _, row in table_data.iterrows()]\n",
    "    for future in tqdm(concurrent.futures.as_completed(futures), total=table_data.shape[0]):\n",
    "        face_features.append(future.result())\n",
    "        \n",
    "face_features = pd.DataFrame().from_dict(face_features)"
   ],
   "metadata": {
    "collapsed": false,
    "ExecuteTime": {
     "end_time": "2024-03-03T02:51:06.319980Z",
     "start_time": "2024-03-03T02:51:05.015935Z"
    }
   },
   "id": "d5c9432120595f1d",
   "execution_count": 10
  },
  {
   "cell_type": "code",
   "outputs": [],
   "source": [
    "face_features.to_csv(CSV_FOLDER + 'additional_features_' + SUFFIX + '.csv', index=False)"
   ],
   "metadata": {
    "collapsed": false,
    "ExecuteTime": {
     "end_time": "2024-03-03T02:52:20.341796Z",
     "start_time": "2024-03-03T02:52:20.287856Z"
    }
   },
   "id": "ef2bc7d244dce29a",
   "execution_count": 12
  }
 ],
 "metadata": {
  "kernelspec": {
   "display_name": "Python 3",
   "language": "python",
   "name": "python3"
  },
  "language_info": {
   "codemirror_mode": {
    "name": "ipython",
    "version": 2
   },
   "file_extension": ".py",
   "mimetype": "text/x-python",
   "name": "python",
   "nbconvert_exporter": "python",
   "pygments_lexer": "ipython2",
   "version": "2.7.6"
  }
 },
 "nbformat": 4,
 "nbformat_minor": 5
}
